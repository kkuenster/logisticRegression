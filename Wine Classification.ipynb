{
 "cells": [
  {
   "cell_type": "code",
   "execution_count": 114,
   "id": "1bfbd6fe",
   "metadata": {
    "scrolled": false
   },
   "outputs": [
    {
     "data": {
      "text/plain": [
       "fixed acidity           float64\n",
       "volatile acidity        float64\n",
       "citric acid             float64\n",
       "residual sugar          float64\n",
       "chlorides               float64\n",
       "free sulfur dioxide     float64\n",
       "total sulfur dioxide    float64\n",
       "density                 float64\n",
       "pH                      float64\n",
       "sulphates               float64\n",
       "alcohol                 float64\n",
       "quality                   int64\n",
       "dtype: object"
      ]
     },
     "execution_count": 114,
     "metadata": {},
     "output_type": "execute_result"
    }
   ],
   "source": [
    "import pandas as pd\n",
    "import seaborn as sns\n",
    "\n",
    "df = pd.read_csv('winequality-red.csv',sep=';')\n",
    "\n",
    "df.head()\n",
    "\n",
    "df.dtypes\n"
   ]
  },
  {
   "cell_type": "code",
   "execution_count": 115,
   "id": "8008bc47",
   "metadata": {},
   "outputs": [],
   "source": [
    "# Create Classification version of target variable\n",
    "df['goodquality'] = [1 if x >= 6 else 0 for x in df['quality']]\n",
    "# Separate feature variables and target variable\n",
    "X = df.drop(['quality','goodquality'], axis = 1)\n",
    "y = df['goodquality']"
   ]
  },
  {
   "cell_type": "code",
   "execution_count": 116,
   "id": "bd115c29",
   "metadata": {},
   "outputs": [],
   "source": [
    "# Normalize feature variables\n",
    "from sklearn.preprocessing import StandardScaler\n",
    "X_features = X\n",
    "X = StandardScaler().fit_transform(X)"
   ]
  },
  {
   "cell_type": "code",
   "execution_count": 117,
   "id": "86a18c0e",
   "metadata": {
    "scrolled": false
   },
   "outputs": [
    {
     "data": {
      "text/plain": [
       "1    855\n",
       "0    744\n",
       "Name: goodquality, dtype: int64"
      ]
     },
     "execution_count": 117,
     "metadata": {},
     "output_type": "execute_result"
    }
   ],
   "source": [
    "# See proportion of good vs bad wines\n",
    "df['goodquality'].value_counts()"
   ]
  },
  {
   "cell_type": "code",
   "execution_count": 118,
   "id": "b2c7c7f9",
   "metadata": {
    "scrolled": true
   },
   "outputs": [
    {
     "data": {
      "image/png": "[encoded data removed]",
      "text/plain": [
       "<Figure size 576x432 with 1 Axes>"
      ]
     },
     "metadata": {},
     "output_type": "display_data"
    }
   ],
   "source": [
    "import matplotlib.pyplot as plt\n",
    "plt.figure(figsize=(8,6))\n",
    "plt.title('Distribution of Good Wine', size=15)\n",
    "sns.countplot(x=df['goodquality'])\n",
    "target_count = df.goodquality.value_counts()\n",
    "plt.annotate(text=target_count[0], xy=(-0.04,10+target_count[0]), size=14)\n",
    "plt.annotate(text=target_count[1], xy=(0.96,10+target_count[1]), size=14)\n",
    "plt.ylim(0,900)\n",
    "plt.show()"
   ]
  },
  {
   "cell_type": "code",
   "execution_count": 119,
   "id": "fd3200a7",
   "metadata": {},
   "outputs": [
    {
     "data": {
      "text/html": [
       "<div>\n",
       "<style scoped>\n",
       "    .dataframe tbody tr th:only-of-type {\n",
       "        vertical-align: middle;\n",
       "    }\n",
       "\n",
       "    .dataframe tbody tr th {\n",
       "        vertical-align: top;\n",
       "    }\n",
       "\n",
       "    .dataframe thead th {\n",
       "        text-align: right;\n",
       "    }\n",
       "</style>\n",
       "<table border=\"1\" class=\"dataframe\">\n",
       "  <thead>\n",
       "    <tr style=\"text-align: right;\">\n",
       "      <th></th>\n",
       "      <th>fixed acidity</th>\n",
       "      <th>volatile acidity</th>\n",
       "      <th>citric acid</th>\n",
       "      <th>residual sugar</th>\n",
       "      <th>chlorides</th>\n",
       "      <th>free sulfur dioxide</th>\n",
       "      <th>total sulfur dioxide</th>\n",
       "      <th>density</th>\n",
       "      <th>pH</th>\n",
       "      <th>sulphates</th>\n",
       "      <th>alcohol</th>\n",
       "      <th>quality</th>\n",
       "      <th>goodquality</th>\n",
       "    </tr>\n",
       "  </thead>\n",
       "  <tbody>\n",
       "    <tr>\n",
       "      <th>fixed acidity</th>\n",
       "      <td>1.000000</td>\n",
       "      <td>-0.256131</td>\n",
       "      <td>0.671703</td>\n",
       "      <td>0.114777</td>\n",
       "      <td>0.093705</td>\n",
       "      <td>-0.153794</td>\n",
       "      <td>-0.113181</td>\n",
       "      <td>0.668047</td>\n",
       "      <td>-0.682978</td>\n",
       "      <td>0.183006</td>\n",
       "      <td>-0.061668</td>\n",
       "      <td>0.124052</td>\n",
       "      <td>0.095093</td>\n",
       "    </tr>\n",
       "    <tr>\n",
       "      <th>volatile acidity</th>\n",
       "      <td>-0.256131</td>\n",
       "      <td>1.000000</td>\n",
       "      <td>-0.552496</td>\n",
       "      <td>0.001918</td>\n",
       "      <td>0.061298</td>\n",
       "      <td>-0.010504</td>\n",
       "      <td>0.076470</td>\n",
       "      <td>0.022026</td>\n",
       "      <td>0.234937</td>\n",
       "      <td>-0.260987</td>\n",
       "      <td>-0.202288</td>\n",
       "      <td>-0.390558</td>\n",
       "      <td>-0.321441</td>\n",
       "    </tr>\n",
       "    <tr>\n",
       "      <th>citric acid</th>\n",
       "      <td>0.671703</td>\n",
       "      <td>-0.552496</td>\n",
       "      <td>1.000000</td>\n",
       "      <td>0.143577</td>\n",
       "      <td>0.203823</td>\n",
       "      <td>-0.060978</td>\n",
       "      <td>0.035533</td>\n",
       "      <td>0.364947</td>\n",
       "      <td>-0.541904</td>\n",
       "      <td>0.312770</td>\n",
       "      <td>0.109903</td>\n",
       "      <td>0.226373</td>\n",
       "      <td>0.159129</td>\n",
       "    </tr>\n",
       "    <tr>\n",
       "      <th>residual sugar</th>\n",
       "      <td>0.114777</td>\n",
       "      <td>0.001918</td>\n",
       "      <td>0.143577</td>\n",
       "      <td>1.000000</td>\n",
       "      <td>0.055610</td>\n",
       "      <td>0.187049</td>\n",
       "      <td>0.203028</td>\n",
       "      <td>0.355283</td>\n",
       "      <td>-0.085652</td>\n",
       "      <td>0.005527</td>\n",
       "      <td>0.042075</td>\n",
       "      <td>0.013732</td>\n",
       "      <td>-0.002160</td>\n",
       "    </tr>\n",
       "    <tr>\n",
       "      <th>chlorides</th>\n",
       "      <td>0.093705</td>\n",
       "      <td>0.061298</td>\n",
       "      <td>0.203823</td>\n",
       "      <td>0.055610</td>\n",
       "      <td>1.000000</td>\n",
       "      <td>0.005562</td>\n",
       "      <td>0.047400</td>\n",
       "      <td>0.200632</td>\n",
       "      <td>-0.265026</td>\n",
       "      <td>0.371260</td>\n",
       "      <td>-0.221141</td>\n",
       "      <td>-0.128907</td>\n",
       "      <td>-0.109494</td>\n",
       "    </tr>\n",
       "    <tr>\n",
       "      <th>free sulfur dioxide</th>\n",
       "      <td>-0.153794</td>\n",
       "      <td>-0.010504</td>\n",
       "      <td>-0.060978</td>\n",
       "      <td>0.187049</td>\n",
       "      <td>0.005562</td>\n",
       "      <td>1.000000</td>\n",
       "      <td>0.667666</td>\n",
       "      <td>-0.021946</td>\n",
       "      <td>0.070377</td>\n",
       "      <td>0.051658</td>\n",
       "      <td>-0.069408</td>\n",
       "      <td>-0.050656</td>\n",
       "      <td>-0.061757</td>\n",
       "    </tr>\n",
       "    <tr>\n",
       "      <th>total sulfur dioxide</th>\n",
       "      <td>-0.113181</td>\n",
       "      <td>0.076470</td>\n",
       "      <td>0.035533</td>\n",
       "      <td>0.203028</td>\n",
       "      <td>0.047400</td>\n",
       "      <td>0.667666</td>\n",
       "      <td>1.000000</td>\n",
       "      <td>0.071269</td>\n",
       "      <td>-0.066495</td>\n",
       "      <td>0.042947</td>\n",
       "      <td>-0.205654</td>\n",
       "      <td>-0.185100</td>\n",
       "      <td>-0.231963</td>\n",
       "    </tr>\n",
       "    <tr>\n",
       "      <th>density</th>\n",
       "      <td>0.668047</td>\n",
       "      <td>0.022026</td>\n",
       "      <td>0.364947</td>\n",
       "      <td>0.355283</td>\n",
       "      <td>0.200632</td>\n",
       "      <td>-0.021946</td>\n",
       "      <td>0.071269</td>\n",
       "      <td>1.000000</td>\n",
       "      <td>-0.341699</td>\n",
       "      <td>0.148506</td>\n",
       "      <td>-0.496180</td>\n",
       "      <td>-0.174919</td>\n",
       "      <td>-0.159110</td>\n",
       "    </tr>\n",
       "    <tr>\n",
       "      <th>pH</th>\n",
       "      <td>-0.682978</td>\n",
       "      <td>0.234937</td>\n",
       "      <td>-0.541904</td>\n",
       "      <td>-0.085652</td>\n",
       "      <td>-0.265026</td>\n",
       "      <td>0.070377</td>\n",
       "      <td>-0.066495</td>\n",
       "      <td>-0.341699</td>\n",
       "      <td>1.000000</td>\n",
       "      <td>-0.196648</td>\n",
       "      <td>0.205633</td>\n",
       "      <td>-0.057731</td>\n",
       "      <td>-0.003264</td>\n",
       "    </tr>\n",
       "    <tr>\n",
       "      <th>sulphates</th>\n",
       "      <td>0.183006</td>\n",
       "      <td>-0.260987</td>\n",
       "      <td>0.312770</td>\n",
       "      <td>0.005527</td>\n",
       "      <td>0.371260</td>\n",
       "      <td>0.051658</td>\n",
       "      <td>0.042947</td>\n",
       "      <td>0.148506</td>\n",
       "      <td>-0.196648</td>\n",
       "      <td>1.000000</td>\n",
       "      <td>0.093595</td>\n",
       "      <td>0.251397</td>\n",
       "      <td>0.218072</td>\n",
       "    </tr>\n",
       "    <tr>\n",
       "      <th>alcohol</th>\n",
       "      <td>-0.061668</td>\n",
       "      <td>-0.202288</td>\n",
       "      <td>0.109903</td>\n",
       "      <td>0.042075</td>\n",
       "      <td>-0.221141</td>\n",
       "      <td>-0.069408</td>\n",
       "      <td>-0.205654</td>\n",
       "      <td>-0.496180</td>\n",
       "      <td>0.205633</td>\n",
       "      <td>0.093595</td>\n",
       "      <td>1.000000</td>\n",
       "      <td>0.476166</td>\n",
       "      <td>0.434751</td>\n",
       "    </tr>\n",
       "    <tr>\n",
       "      <th>quality</th>\n",
       "      <td>0.124052</td>\n",
       "      <td>-0.390558</td>\n",
       "      <td>0.226373</td>\n",
       "      <td>0.013732</td>\n",
       "      <td>-0.128907</td>\n",
       "      <td>-0.050656</td>\n",
       "      <td>-0.185100</td>\n",
       "      <td>-0.174919</td>\n",
       "      <td>-0.057731</td>\n",
       "      <td>0.251397</td>\n",
       "      <td>0.476166</td>\n",
       "      <td>1.000000</td>\n",
       "      <td>0.848279</td>\n",
       "    </tr>\n",
       "    <tr>\n",
       "      <th>goodquality</th>\n",
       "      <td>0.095093</td>\n",
       "      <td>-0.321441</td>\n",
       "      <td>0.159129</td>\n",
       "      <td>-0.002160</td>\n",
       "      <td>-0.109494</td>\n",
       "      <td>-0.061757</td>\n",
       "      <td>-0.231963</td>\n",
       "      <td>-0.159110</td>\n",
       "      <td>-0.003264</td>\n",
       "      <td>0.218072</td>\n",
       "      <td>0.434751</td>\n",
       "      <td>0.848279</td>\n",
       "      <td>1.000000</td>\n",
       "    </tr>\n",
       "  </tbody>\n",
       "</table>\n",
       "</div>"
      ],
      "text/plain": [
       "                      fixed acidity  volatile acidity  citric acid  \\\n",
       "fixed acidity              1.000000         -0.256131     0.671703   \n",
       "volatile acidity          -0.256131          1.000000    -0.552496   \n",
       "citric acid                0.671703         -0.552496     1.000000   \n",
       "residual sugar             0.114777          0.001918     0.143577   \n",
       "chlorides                  0.093705          0.061298     0.203823   \n",
       "free sulfur dioxide       -0.153794         -0.010504    -0.060978   \n",
       "total sulfur dioxide      -0.113181          0.076470     0.035533   \n",
       "density                    0.668047          0.022026     0.364947   \n",
       "pH                        -0.682978          0.234937    -0.541904   \n",
       "sulphates                  0.183006         -0.260987     0.312770   \n",
       "alcohol                   -0.061668         -0.202288     0.109903   \n",
       "quality                    0.124052         -0.390558     0.226373   \n",
       "goodquality                0.095093         -0.321441     0.159129   \n",
       "\n",
       "                      residual sugar  chlorides  free sulfur dioxide  \\\n",
       "fixed acidity               0.114777   0.093705            -0.153794   \n",
       "volatile acidity            0.001918   0.061298            -0.010504   \n",
       "citric acid                 0.143577   0.203823            -0.060978   \n",
       "residual sugar              1.000000   0.055610             0.187049   \n",
       "chlorides                   0.055610   1.000000             0.005562   \n",
       "free sulfur dioxide         0.187049   0.005562             1.000000   \n",
       "total sulfur dioxide        0.203028   0.047400             0.667666   \n",
       "density                     0.355283   0.200632            -0.021946   \n",
       "pH                         -0.085652  -0.265026             0.070377   \n",
       "sulphates                   0.005527   0.371260             0.051658   \n",
       "alcohol                     0.042075  -0.221141            -0.069408   \n",
       "quality                     0.013732  -0.128907            -0.050656   \n",
       "goodquality                -0.002160  -0.109494            -0.061757   \n",
       "\n",
       "                      total sulfur dioxide   density        pH  sulphates  \\\n",
       "fixed acidity                    -0.113181  0.668047 -0.682978   0.183006   \n",
       "volatile acidity                  0.076470  0.022026  0.234937  -0.260987   \n",
       "citric acid                       0.035533  0.364947 -0.541904   0.312770   \n",
       "residual sugar                    0.203028  0.355283 -0.085652   0.005527   \n",
       "chlorides                         0.047400  0.200632 -0.265026   0.371260   \n",
       "free sulfur dioxide               0.667666 -0.021946  0.070377   0.051658   \n",
       "total sulfur dioxide              1.000000  0.071269 -0.066495   0.042947   \n",
       "density                           0.071269  1.000000 -0.341699   0.148506   \n",
       "pH                               -0.066495 -0.341699  1.000000  -0.196648   \n",
       "sulphates                         0.042947  0.148506 -0.196648   1.000000   \n",
       "alcohol                          -0.205654 -0.496180  0.205633   0.093595   \n",
       "quality                          -0.185100 -0.174919 -0.057731   0.251397   \n",
       "goodquality                      -0.231963 -0.159110 -0.003264   0.218072   \n",
       "\n",
       "                       alcohol   quality  goodquality  \n",
       "fixed acidity        -0.061668  0.124052     0.095093  \n",
       "volatile acidity     -0.202288 -0.390558    -0.321441  \n",
       "citric acid           0.109903  0.226373     0.159129  \n",
       "residual sugar        0.042075  0.013732    -0.002160  \n",
       "chlorides            -0.221141 -0.128907    -0.109494  \n",
       "free sulfur dioxide  -0.069408 -0.050656    -0.061757  \n",
       "total sulfur dioxide -0.205654 -0.185100    -0.231963  \n",
       "density              -0.496180 -0.174919    -0.159110  \n",
       "pH                    0.205633 -0.057731    -0.003264  \n",
       "sulphates             0.093595  0.251397     0.218072  \n",
       "alcohol               1.000000  0.476166     0.434751  \n",
       "quality               0.476166  1.000000     0.848279  \n",
       "goodquality           0.434751  0.848279     1.000000  "
      ]
     },
     "execution_count": 119,
     "metadata": {},
     "output_type": "execute_result"
    }
   ],
   "source": [
    "df.corr()"
   ]
  },
  {
   "cell_type": "code",
   "execution_count": 120,
   "id": "c89b4dfd",
   "metadata": {},
   "outputs": [],
   "source": [
    "# Splitting the data\n",
    "from sklearn.model_selection import train_test_split\n",
    "X_train, X_test, y_train, y_test = train_test_split(X, y, test_size=.25, random_state=0)"
   ]
  },
  {
   "cell_type": "code",
   "execution_count": 121,
   "id": "bee37c0b",
   "metadata": {},
   "outputs": [
    {
     "data": {
      "text/plain": [
       "StandardScaler()"
      ]
     },
     "execution_count": 121,
     "metadata": {},
     "output_type": "execute_result"
    }
   ],
   "source": [
    "from sklearn import preprocessing\n",
    "scaler = preprocessing.StandardScaler().fit(X_train)\n",
    "scaler"
   ]
  },
  {
   "cell_type": "code",
   "execution_count": 122,
   "id": "0d6324e3",
   "metadata": {
    "scrolled": true
   },
   "outputs": [
    {
     "data": {
      "text/plain": [
       "array([[ 0.03570115,  1.17013908, -0.82797173, ..., -0.77068411,\n",
       "         0.91195248, -0.75660071],\n",
       "       [-0.42519441, -0.54734879,  0.09751438, ...,  0.59078753,\n",
       "        -0.10608706, -0.85048089],\n",
       "       [ 0.03570115,  0.16145573, -1.18788299, ..., -0.57618817,\n",
       "        -1.2372421 , -0.75660071],\n",
       "       ...,\n",
       "       [-0.25235857,  0.21597915,  0.20034617, ..., -0.12236428,\n",
       "         0.1767017 , -0.85048089],\n",
       "       [ 2.68585058, -0.32925509,  1.12583228, ..., -0.0575323 ,\n",
       "         0.12014395,  2.15368509],\n",
       "       [ 0.84226836,  2.45143956,  0.25176207, ..., -0.38169222,\n",
       "        -1.01101109, -0.94436108]])"
      ]
     },
     "execution_count": 122,
     "metadata": {},
     "output_type": "execute_result"
    }
   ],
   "source": [
    "X_scaled = scaler.transform(X_train)\n",
    "X_scaled"
   ]
  },
  {
   "cell_type": "code",
   "execution_count": 146,
   "id": "1a62c0fa",
   "metadata": {
    "scrolled": true
   },
   "outputs": [
    {
     "name": "stdout",
     "output_type": "stream",
     "text": [
      "Precent of accuracy on training data using k=1 is 100.0\n",
      "Precent of accuracy on training data using k=2 is 87.65638031693076\n",
      "Precent of accuracy on training data using k=3 is 86.07172643869892\n",
      "Precent of accuracy on training data using k=4 is 82.98582151793161\n",
      "Precent of accuracy on training data using k=5 is 82.40200166805671\n",
      "Precent of accuracy on training data using k=6 is 80.98415346121767\n",
      "Precent of accuracy on training data using k=7 is 79.81651376146789\n",
      "Precent of accuracy on training data using k=8 is 79.8999165971643\n",
      "Precent of accuracy on training data using k=9 is 79.06588824020017\n",
      "Precent of accuracy on training data using k=10 is 78.73227689741451\n",
      "Precent of accuracy on training data using k=11 is 78.31526271893244\n",
      "Precent of accuracy on training data using k=12 is 77.73144286905755\n",
      "Precent of accuracy on training data using k=13 is 77.31442869057548\n",
      "Precent of accuracy on training data using k=14 is 78.14845704753962\n",
      "Precent of accuracy on training data using k=15 is 77.73144286905755\n",
      "Precent of accuracy on training data using k=16 is 78.23185988323603\n",
      "Precent of accuracy on training data using k=17 is 76.56380316930776\n",
      "Precent of accuracy on training data using k=18 is 77.56463719766472\n",
      "Precent of accuracy on training data using k=19 is 75.89658048373644\n",
      "Precent of accuracy on training data using k=20 is 76.64720600500416\n",
      "Precent of accuracy on training data using k=21 is 75.97998331943286\n",
      "Precent of accuracy on training data using k=22 is 76.39699749791492\n",
      "Precent of accuracy on training data using k=23 is 75.5629691409508\n",
      "Precent of accuracy on training data using k=24 is 76.56380316930776\n",
      "Precent of accuracy on training data using k=25 is 76.06338615512928\n",
      "Precent of accuracy on training data using k=26 is 76.48040033361134\n",
      "Precent of accuracy on training data using k=27 is 76.39699749791492\n",
      "Precent of accuracy on training data using k=28 is 76.56380316930776\n",
      "Precent of accuracy on training data using k=29 is 75.97998331943286\n",
      "Precent of accuracy on training data using k=30 is 75.39616346955796\n",
      "Precent of accuracy on training data using k=31 is 75.14595496246872\n",
      "Precent of accuracy on training data using k=32 is 75.47956630525438\n",
      "Precent of accuracy on training data using k=33 is 74.395329441201\n",
      "Precent of accuracy on training data using k=34 is 74.47873227689742\n",
      "Precent of accuracy on training data using k=35 is 73.56130108423686\n",
      "Precent of accuracy on training data using k=36 is 73.81150959132611\n",
      "Precent of accuracy on training data using k=37 is 73.7281067556297\n",
      "Precent of accuracy on training data using k=38 is 74.22852376980818\n",
      "Precent of accuracy on training data using k=39 is 74.06171809841534\n",
      "Precent of accuracy on training data using k=40 is 74.47873227689742\n",
      "Precent of accuracy on training data using k=41 is 74.72894078398666\n",
      "Precent of accuracy on training data using k=42 is 74.56213511259384\n",
      "Precent of accuracy on training data using k=43 is 74.64553794829024\n",
      "Precent of accuracy on training data using k=44 is 74.395329441201\n",
      "Precent of accuracy on training data using k=45 is 74.64553794829024\n",
      "Precent of accuracy on training data using k=46 is 74.72894078398666\n",
      "Precent of accuracy on training data using k=47 is 75.14595496246872\n",
      "Precent of accuracy on training data using k=48 is 75.31276063386156\n",
      "Precent of accuracy on training data using k=49 is 75.14595496246872\n",
      "Precent of accuracy on training data using k=50 is 75.14595496246872\n",
      "Precent of accuracy on training data using k=51 is 75.97998331943286\n",
      "Precent of accuracy on training data using k=52 is 75.31276063386156\n",
      "Precent of accuracy on training data using k=53 is 75.31276063386156\n",
      "Precent of accuracy on training data using k=54 is 74.9791492910759\n",
      "Precent of accuracy on training data using k=55 is 75.39616346955796\n",
      "Precent of accuracy on training data using k=56 is 74.81234361968306\n",
      "Precent of accuracy on training data using k=57 is 75.5629691409508\n",
      "Precent of accuracy on training data using k=58 is 75.6463719766472\n",
      "Precent of accuracy on training data using k=59 is 75.22935779816514\n",
      "Precent of accuracy on training data using k=60 is 75.31276063386156\n",
      "Precent of accuracy on training data using k=61 is 74.64553794829024\n",
      "Precent of accuracy on training data using k=62 is 75.0625521267723\n",
      "Precent of accuracy on training data using k=63 is 75.0625521267723\n",
      "Precent of accuracy on training data using k=64 is 75.31276063386156\n",
      "Precent of accuracy on training data using k=65 is 75.0625521267723\n",
      "Precent of accuracy on training data using k=66 is 75.22935779816514\n",
      "Precent of accuracy on training data using k=67 is 75.31276063386156\n",
      "Precent of accuracy on training data using k=68 is 74.64553794829024\n",
      "Precent of accuracy on training data using k=69 is 74.395329441201\n",
      "Best accuracy found with k=1\n"
     ]
    }
   ],
   "source": [
    "from sklearn.neighbors import KNeighborsClassifier\n",
    "best_accuracy = 0\n",
    "for k in range(1,70):\n",
    "    knn = KNeighborsClassifier(n_neighbors=k)\n",
    "    knn.fit(X_train,y_train)\n",
    "    train_score = knn.score(X_train,y_train)\n",
    "    if train_score > best_accuracy:\n",
    "        best_accuracy = train_score\n",
    "        best_k = k\n",
    "    print(f\"Precent of accuracy on training data using k={k} is {100 * knn.score (X_train,y_train)}\")\n",
    "print(f'Best accuracy found with k={best_k}')"
   ]
  },
  {
   "cell_type": "code",
   "execution_count": 157,
   "id": "1dd37c15",
   "metadata": {},
   "outputs": [
    {
     "name": "stdout",
     "output_type": "stream",
     "text": [
      "accuracy is 74.0%\n"
     ]
    }
   ],
   "source": [
    "knn = KNeighborsClassifier(n_neighbors=75)\n",
    "knn.fit(X_train,y_train)\n",
    "test_score_knn = knn.score(X_test,y_test)\n",
    "print(f'accuracy is {round(100*test_score_knn,2)}%')"
   ]
  },
  {
   "cell_type": "code",
   "execution_count": 142,
   "id": "6119fdc3",
   "metadata": {
    "scrolled": true
   },
   "outputs": [
    {
     "name": "stdout",
     "output_type": "stream",
     "text": [
      "[0.684375   0.690625   0.7125     0.721875   0.65830721]\n",
      "0.6935364420062696\n"
     ]
    },
    {
     "data": {
      "text/plain": [
       "Text(0, 0.5, 'Cross-Validated Accuracy')"
      ]
     },
     "execution_count": 142,
     "metadata": {},
     "output_type": "execute_result"
    },
    {
     "data": {
      "image/png": "[encoded data removed]",
      "text/plain": [
       "<Figure size 432x288 with 1 Axes>"
      ]
     },
     "metadata": {},
     "output_type": "display_data"
    }
   ],
   "source": [
    "from sklearn.model_selection import cross_val_score\n",
    "from sklearn.neighbors import KNeighborsClassifier\n",
    "\n",
    "\n",
    "knn = KNeighborsClassifier(n_neighbors=10)\n",
    "\n",
    "scores = cross_val_score(knn,X,y,cv=5,scoring='accuracy')\n",
    "print(scores)\n",
    "print(scores.mean())\n",
    "\n",
    "k_range = range(1,100)\n",
    "k_scores = []\n",
    "for k_number in k_range:\n",
    "    knn = KNeighborsClassifier(n_neighbors=k_number)\n",
    "    scores = cross_val_score(knn,X,y,cv=10,scoring='accuracy')\n",
    "    k_scores.append(scores.mean())\n",
    "    \n",
    "plt.plot(k_range,k_scores)\n",
    "plt.xlabel('Value of K for KNN')\n",
    "plt.ylabel('Cross-Validated Accuracy')\n",
    "\n"
   ]
  },
  {
   "cell_type": "code",
   "execution_count": 158,
   "id": "a36946bd",
   "metadata": {
    "scrolled": true
   },
   "outputs": [
    {
     "name": "stdout",
     "output_type": "stream",
     "text": [
      "               Pred Negative  Pred Positive\n",
      "True Negative            122             63\n",
      "True Positive             41            174\n",
      "\n",
      " Accuracy = 0.74\n",
      "\n",
      " Precision = 0.734\n",
      "\n",
      " Recall = 0.8093\n",
      "\n",
      " F1 Score = 0.77\n"
     ]
    }
   ],
   "source": [
    "y_pred = np.array(knn.predict(X_test))\n",
    "conf_mat = pd.DataFrame(confusion_matrix(y_test, y_pred),\n",
    "                        columns=[\"Pred Negative\", \"Pred Positive\"],\n",
    "                        index=['True Negative', \"True Positive\"])\n",
    "tn, fp, fn, tp = confusion_matrix(y_test, y_pred).ravel()\n",
    "accuracy = round((tn+tp)/(tn+fp+fn+tp), 3)\n",
    "precision = round((tp)/(tp+fp),3)\n",
    "recall = round((tp)/(tp+fn),4)\n",
    "f1 = round(f1_score(y_test,y_pred),3)\n",
    "print(conf_mat)\n",
    "print(f'\\n Accuracy =', accuracy)\n",
    "print(f'\\n Precision =', precision)\n",
    "print(f'\\n Recall =', recall)\n",
    "print(f'\\n F1 Score =', f1)"
   ]
  },
  {
   "cell_type": "code",
   "execution_count": 125,
   "id": "9ac31ba4",
   "metadata": {
    "scrolled": false
   },
   "outputs": [
    {
     "name": "stdout",
     "output_type": "stream",
     "text": [
      "accuracy on test data using Logisitic Regression is  75.25\n"
     ]
    }
   ],
   "source": [
    "from sklearn.linear_model import LogisticRegression\n",
    "lr = LogisticRegression(solver ='lbfgs', max_iter=20 )\n",
    "lr.fit(X_train, y_train) \n",
    "test_score =  lr.score (X_test,y_test)*100\n",
    "test_score = round(test_score,2) \n",
    "print (\"accuracy on test data using Logisitic Regression is \",test_score)"
   ]
  },
  {
   "cell_type": "code",
   "execution_count": 159,
   "id": "4113aa0c",
   "metadata": {},
   "outputs": [
    {
     "data": {
      "text/plain": [
       "GaussianNB()"
      ]
     },
     "execution_count": 159,
     "metadata": {},
     "output_type": "execute_result"
    }
   ],
   "source": [
    "from sklearn.naive_bayes import GaussianNB\n",
    "\n",
    "nb = GaussianNB()\n",
    "\n",
    "nb.fit(X_train, y_train)\n"
   ]
  },
  {
   "cell_type": "code",
   "execution_count": 162,
   "id": "15cb7658",
   "metadata": {},
   "outputs": [
    {
     "name": "stdout",
     "output_type": "stream",
     "text": [
      "               Pred Negative  Pred Positive\n",
      "True Negative            129             56\n",
      "True Positive             49            166\n",
      "\n",
      " Accuracy = 0.738\n",
      "\n",
      " Precision = 0.748\n",
      "\n",
      " Recall = 0.7721\n",
      "\n",
      " F1 Score = 0.76\n"
     ]
    }
   ],
   "source": [
    "y_pred = np.array(nb.predict(X_test))\n",
    "conf_mat = pd.DataFrame(confusion_matrix(y_test, y_pred),\n",
    "                        columns=[\"Pred Negative\", \"Pred Positive\"],\n",
    "                        index=['True Negative', \"True Positive\"])\n",
    "tn, fp, fn, tp = confusion_matrix(y_test, y_pred).ravel()\n",
    "accuracy = round((tn+tp)/(tn+fp+fn+tp), 3)\n",
    "precision = round((tp)/(tp+fp),3)\n",
    "recall = round((tp)/(tp+fn),4)\n",
    "f1 = round(f1_score(y_test,y_pred),3)\n",
    "print(conf_mat)\n",
    "print(f'\\n Accuracy =', accuracy)\n",
    "print(f'\\n Precision =', precision)\n",
    "print(f'\\n Recall =', recall)\n",
    "print(f'\\n F1 Score =', f1)"
   ]
  },
  {
   "cell_type": "code",
   "execution_count": 160,
   "id": "f9e9fc70",
   "metadata": {},
   "outputs": [],
   "source": [
    "from sklearn.model_selection import KFold\n",
    "from sklearn.model_selection import cross_val_score\n",
    "from sklearn.linear_model import LogisticRegression\n",
    "from sklearn.naive_bayes import GaussianNB\n",
    "from sklearn.neighbors import KNeighborsClassifier\n",
    "\n",
    "\n",
    "models = []\n",
    "\n",
    "models.append((\"Logistic Regression:\",LogisticRegression()))\n",
    "models.append((\"Naive Bayes:\",GaussianNB()))\n",
    "models.append((\"K-Nearest Neighbour:\",KNeighborsClassifier(n_neighbors=3)))"
   ]
  },
  {
   "cell_type": "code",
   "execution_count": 161,
   "id": "bb390b52",
   "metadata": {
    "scrolled": true
   },
   "outputs": [
    {
     "name": "stdout",
     "output_type": "stream",
     "text": [
      "Logistic Regression: 73.81162464985994\n",
      "Naive Bayes: 73.06022408963585\n",
      "K-Nearest Neighbour: 73.56162464985995\n"
     ]
    }
   ],
   "source": [
    "results = []\n",
    "names = []\n",
    "for name,model in models:\n",
    "    kfold = KFold(n_splits=10, shuffle=True)\n",
    "    cv_result = cross_val_score(model,X_train,y_train.values.ravel(), cv = kfold,scoring = \"accuracy\")\n",
    "    names.append(name)\n",
    "    results.append(cv_result)\n",
    "for i in range(len(names)):\n",
    "    print(names[i],results[i].mean()*100)"
   ]
  },
  {
   "cell_type": "code",
   "execution_count": null,
   "id": "e80fa2db",
   "metadata": {},
   "outputs": [],
   "source": []
  },
  {
   "cell_type": "code",
   "execution_count": 132,
   "id": "20aaf851",
   "metadata": {},
   "outputs": [
    {
     "name": "stdout",
     "output_type": "stream",
     "text": [
      "               Pred Negative  Pred Positive\n",
      "True Negative            134             51\n",
      "True Positive             48            167\n",
      "\n",
      " Accuracy = 0.752\n",
      "\n",
      " Precision = 0.766\n",
      "\n",
      " Recall = 0.7767\n",
      "\n",
      " F1 Score = 0.771\n",
      "Logistic Regression\n",
      "               precision    recall  f1-score   support\n",
      "\n",
      "           0       0.74      0.72      0.73       185\n",
      "           1       0.77      0.78      0.77       215\n",
      "\n",
      "    accuracy                           0.75       400\n",
      "   macro avg       0.75      0.75      0.75       400\n",
      "weighted avg       0.75      0.75      0.75       400\n",
      "\n",
      "Gaussian NB\n",
      "               precision    recall  f1-score   support\n",
      "\n",
      "           0       0.72      0.70      0.71       185\n",
      "           1       0.75      0.77      0.76       215\n",
      "\n",
      "    accuracy                           0.74       400\n",
      "   macro avg       0.74      0.73      0.74       400\n",
      "weighted avg       0.74      0.74      0.74       400\n",
      "\n",
      "KNN\n",
      "               precision    recall  f1-score   support\n",
      "\n",
      "           0       0.74      0.68      0.71       185\n",
      "           1       0.74      0.79      0.77       215\n",
      "\n",
      "    accuracy                           0.74       400\n",
      "   macro avg       0.74      0.74      0.74       400\n",
      "weighted avg       0.74      0.74      0.74       400\n",
      "\n"
     ]
    }
   ],
   "source": [
    "from sklearn.metrics import classification_report, confusion_matrix \n",
    "import numpy as np\n",
    "from sklearn.metrics import f1_score\n",
    "\n",
    "lr_predictions = lr.predict(X_test)\n",
    "nb_predictions = nb.predict(X_test)\n",
    "knn_predictions = knn.predict(X_test)\n",
    "\n",
    "y_pred = np.array(lr.predict(X_test))\n",
    "conf_mat = pd.DataFrame(confusion_matrix(y_test, y_pred),\n",
    "                        columns=[\"Pred Negative\", \"Pred Positive\"],\n",
    "                        index=['True Negative', \"True Positive\"])\n",
    "tn, fp, fn, tp = confusion_matrix(y_test, y_pred).ravel()\n",
    "accuracy = round((tn+tp)/(tn+fp+fn+tp), 3)\n",
    "precision = round((tp)/(tp+fp),3)\n",
    "recall = round((tp)/(tp+fn),4)\n",
    "f1 = round(f1_score(y_test,y_pred),3)\n",
    "print(conf_mat)\n",
    "print(f'\\n Accuracy =', accuracy)\n",
    "print(f'\\n Precision =', precision)\n",
    "print(f'\\n Recall =', recall)\n",
    "print(f'\\n F1 Score =', f1)\n",
    "\n",
    "print('Logistic Regression\\n',classification_report(y_test,lr_predictions))\n",
    "\n",
    "print('Gaussian NB\\n',classification_report(y_test,nb_predictions))\n",
    "\n",
    "print('KNN\\n',classification_report(y_test,knn_predictions))\n"
   ]
  },
  {
   "cell_type": "code",
   "execution_count": 102,
   "id": "4972d9a1",
   "metadata": {},
   "outputs": [],
   "source": [
    "report_lr = classification_report(y_test,lr_predictions , output_dict=True)\n",
    "report_nb = classification_report(y_test,nb_predictions , output_dict=True)\n",
    "report_knn = classification_report(y_test,knn_predictions , output_dict=True)"
   ]
  },
  {
   "cell_type": "code",
   "execution_count": 163,
   "id": "a9ac07e9",
   "metadata": {},
   "outputs": [
    {
     "data": {
      "text/html": [
       "<div>\n",
       "<style scoped>\n",
       "    .dataframe tbody tr th:only-of-type {\n",
       "        vertical-align: middle;\n",
       "    }\n",
       "\n",
       "    .dataframe tbody tr th {\n",
       "        vertical-align: top;\n",
       "    }\n",
       "\n",
       "    .dataframe thead th {\n",
       "        text-align: right;\n",
       "    }\n",
       "</style>\n",
       "<table border=\"1\" class=\"dataframe\">\n",
       "  <thead>\n",
       "    <tr style=\"text-align: right;\">\n",
       "      <th></th>\n",
       "      <th>Model</th>\n",
       "      <th>Accuracy</th>\n",
       "      <th>Precision</th>\n",
       "      <th>Recall</th>\n",
       "      <th>F1-Score</th>\n",
       "    </tr>\n",
       "  </thead>\n",
       "  <tbody>\n",
       "    <tr>\n",
       "      <th>0</th>\n",
       "      <td>Logistic Regression</td>\n",
       "      <td>0.752</td>\n",
       "      <td>0.752</td>\n",
       "      <td>0.752</td>\n",
       "      <td>0.752</td>\n",
       "    </tr>\n",
       "    <tr>\n",
       "      <th>2</th>\n",
       "      <td>K Nearest Neighbors</td>\n",
       "      <td>0.740</td>\n",
       "      <td>0.740</td>\n",
       "      <td>0.740</td>\n",
       "      <td>0.739</td>\n",
       "    </tr>\n",
       "    <tr>\n",
       "      <th>1</th>\n",
       "      <td>Gaussian Naive Bayes</td>\n",
       "      <td>0.738</td>\n",
       "      <td>0.737</td>\n",
       "      <td>0.738</td>\n",
       "      <td>0.737</td>\n",
       "    </tr>\n",
       "  </tbody>\n",
       "</table>\n",
       "</div>"
      ],
      "text/plain": [
       "                  Model  Accuracy  Precision  Recall  F1-Score\n",
       "0   Logistic Regression     0.752      0.752   0.752     0.752\n",
       "2   K Nearest Neighbors     0.740      0.740   0.740     0.739\n",
       "1  Gaussian Naive Bayes     0.738      0.737   0.738     0.737"
      ]
     },
     "execution_count": 163,
     "metadata": {},
     "output_type": "execute_result"
    }
   ],
   "source": [
    "model = {'Model':['Logistic Regression', 'Gaussian Naive Bayes', 'K Nearest Neighbors'],\n",
    "        'Accuracy':[report_lr['accuracy'],report_nb['accuracy'],report_knn['accuracy']],\n",
    "        'Precision':[report_lr['weighted avg']['precision'],report_nb['weighted avg']['precision'],report_knn['weighted avg']['precision']],\n",
    "        'Recall':[report_lr['weighted avg']['recall'],report_nb['weighted avg']['recall'],report_knn['weighted avg']['recall']],\n",
    "        'F1-Score':[report_lr['weighted avg']['f1-score'],report_nb['weighted avg']['f1-score'],report_knn['weighted avg']['f1-score']]}\n",
    "\n",
    "model = pd.DataFrame(model)\n",
    "\n",
    "model.round(3).sort_values(by=['Accuracy'],ascending=False)"
   ]
  },
  {
   "cell_type": "code",
   "execution_count": null,
   "id": "75cec08b",
   "metadata": {},
   "outputs": [],
   "source": []
  }
 ],
 "metadata": {
  "kernelspec": {
   "display_name": "Python 3 (ipykernel)",
   "language": "python",
   "name": "python3"
  },
  "language_info": {
   "codemirror_mode": {
    "name": "ipython",
    "version": 3
   },
   "file_extension": ".py",
   "mimetype": "text/x-python",
   "name": "python",
   "nbconvert_exporter": "python",
   "pygments_lexer": "ipython3",
   "version": "3.9.7"
  }
 },
 "nbformat": 4,
 "nbformat_minor": 5
}
